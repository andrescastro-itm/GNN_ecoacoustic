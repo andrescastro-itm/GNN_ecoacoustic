{
 "cells": [
  {
   "cell_type": "code",
   "execution_count": null,
   "metadata": {},
   "outputs": [],
   "source": [
    "import torch\n",
    "import numpy as np\n",
    "import pandas as pd\n",
    "import torch.nn.functional as F\n",
    "from torch_geometric.nn import GCNConv, GATv2Conv\n",
    "\n",
    "from GraphDataset import MyDataset\n",
    "from torch_geometric.loader import DataLoader\n",
    "\n",
    "torch.manual_seed(611)"
   ]
  },
  {
   "cell_type": "code",
   "execution_count": null,
   "metadata": {},
   "outputs": [],
   "source": [
    "# Load soft labels with membership level to each cover\n",
    "\n",
    "df_data = pd.read_csv('data/ReyZamuro_softLabels.csv',index_col=0)\n",
    "df_data = df_data.drop('RZUB02')\n",
    "df_data = df_data.drop('RZUA03b')\n",
    "print(df_data.head())"
   ]
  },
  {
   "cell_type": "code",
   "execution_count": null,
   "metadata": {},
   "outputs": [],
   "source": [
    "#Create list of ARUs and labels\n",
    "\n",
    "DatosN = list(df_data.index)\n",
    "Clases = df_data.values.argmax(1)\n",
    "etiquetasN = Clases"
   ]
  },
  {
   "cell_type": "code",
   "execution_count": null,
   "metadata": {},
   "outputs": [],
   "source": [
    "features = 'PANNs'#'PANNs'#'YAMNet' #'VGGish'#'AI'\n",
    "mod_encoder = 'GCN'\n",
    "\n",
    "train_dataset = MyDataset(ListaArchivos=DatosN,\n",
    "                          etiquetas=etiquetasN, caract=features)\n",
    "print(len(train_dataset))"
   ]
  },
  {
   "cell_type": "code",
   "execution_count": null,
   "metadata": {},
   "outputs": [],
   "source": [
    "unpacked_data = [train_dataset[i][0] for i in range(len(train_dataset))]\n",
    "x = torch.stack(unpacked_data, dim=0).transpose(0,1)"
   ]
  },
  {
   "cell_type": "code",
   "execution_count": null,
   "metadata": {},
   "outputs": [],
   "source": [
    "def min_max_normalize_along_dim(tensor, dim):\n",
    "    # Get min and max values along the specified dimension, keeping dimensions\n",
    "    min_vals, _ = torch.min(tensor, dim=dim, keepdim=True)\n",
    "    max_vals, _ = torch.max(tensor, dim=dim, keepdim=True)\n",
    "    \n",
    "    # Handle the case where min and max are the same (to avoid division by zero)\n",
    "    diff = max_vals - min_vals\n",
    "    diff[diff == 0] = 1.0  # Replace zeros with ones to avoid division by zero\n",
    "    \n",
    "    # Normalize the tensor\n",
    "    normalized = (tensor - min_vals) / diff\n",
    "    \n",
    "    return normalized"
   ]
  },
  {
   "cell_type": "code",
   "execution_count": null,
   "metadata": {},
   "outputs": [],
   "source": [
    "x = min_max_normalize_along_dim(x, dim=2)\n",
    "x.shape"
   ]
  },
  {
   "cell_type": "markdown",
   "metadata": {},
   "source": [
    "## Edge Creation"
   ]
  },
  {
   "cell_type": "code",
   "execution_count": null,
   "metadata": {},
   "outputs": [],
   "source": [
    "from utils import edge_creation_nodeinfo, is_connected, edge_creation_geoDistance, plot_distance_matrix_heatmap, edge_creation_coverinfo\n",
    "from torch_geometric.utils import is_undirected"
   ]
  },
  {
   "cell_type": "code",
   "execution_count": null,
   "metadata": {},
   "outputs": [],
   "source": [
    "graphs = edge_creation_coverinfo(torch.tensor(df_data.values), x,'knn', k_neigh=5)\n",
    "for i in graphs:\n",
    "    print(f\"Is the graph {i} connected? {is_connected(i)}\")\n",
    "    print(f'Is the graph undirected {is_undirected(i.edge_index)}')\n",
    "\n",
    "max_nodes = max([data.num_nodes for data in graphs])\n",
    "num_feat = graphs[0].x.shape[-1]\n",
    "num_feat"
   ]
  },
  {
   "cell_type": "code",
   "execution_count": null,
   "metadata": {},
   "outputs": [],
   "source": [
    "train_loader = DataLoader(graphs, batch_size=1, shuffle=False)"
   ]
  },
  {
   "cell_type": "code",
   "execution_count": null,
   "metadata": {},
   "outputs": [],
   "source": [
    "del graphs, x, unpacked_data, train_dataset"
   ]
  },
  {
   "cell_type": "markdown",
   "metadata": {},
   "source": [
    "## Cargar modelo"
   ]
  },
  {
   "cell_type": "code",
   "execution_count": null,
   "metadata": {},
   "outputs": [],
   "source": [
    "from models import MatrixGCNVAE, MatrixGATVAE"
   ]
  },
  {
   "cell_type": "code",
   "execution_count": null,
   "metadata": {},
   "outputs": [],
   "source": [
    "if mod_encoder == \"GCN\":\n",
    "    model = MatrixGCNVAE(in_channels=64*num_feat, hidden_channels=4*num_feat, latent_dim=int(num_feat/8), num_nodes=max_nodes)\n",
    "elif mod_encoder == \"GAT\":\n",
    "    model = MatrixGATVAE(in_channels=64*num_feat, hidden_channels=4*num_feat, latent_dim=int(num_feat/8), num_nodes=max_nodes)\n",
    "else:\n",
    "    print(\"Error\")"
   ]
  },
  {
   "cell_type": "code",
   "execution_count": null,
   "metadata": {},
   "outputs": [],
   "source": [
    "#load model\n",
    "model.load_state_dict(torch.load(f'models/{features}_{mod_encoder}_model_weights.pth'))"
   ]
  },
  {
   "cell_type": "markdown",
   "metadata": {},
   "source": [
    "## Eval\n"
   ]
  },
  {
   "cell_type": "code",
   "execution_count": null,
   "metadata": {},
   "outputs": [],
   "source": [
    "# Generate embeddings\n",
    "model.eval()\n",
    "model.double()\n",
    "embeddings = torch.empty(92,0)\n",
    "with torch.no_grad():\n",
    "    for graph in train_loader:\n",
    "        _, _, mu, logvar = model(graph.x.double(), graph.edge_index)\n",
    "        embs = model.reparameterize(mu, logvar)\n",
    "        embeddings = torch.cat((embeddings,embs), dim = 1)"
   ]
  },
  {
   "cell_type": "code",
   "execution_count": null,
   "metadata": {},
   "outputs": [],
   "source": [
    "print(embeddings.shape)\n",
    "embeddings = (embeddings - embeddings.min(0).values)/(embeddings.max(0).values - embeddings.min(0).values)"
   ]
  },
  {
   "cell_type": "code",
   "execution_count": null,
   "metadata": {},
   "outputs": [],
   "source": [
    "df_map = pd.read_csv('./data/ReyZamuro_latlon.csv',index_col='field_numb')\n",
    "df_map = df_map.drop('RZUA03b')"
   ]
  },
  {
   "cell_type": "markdown",
   "metadata": {},
   "source": [
    "## Matriz de similitud"
   ]
  },
  {
   "cell_type": "code",
   "execution_count": null,
   "metadata": {},
   "outputs": [],
   "source": [
    "embs = embeddings.numpy()\n",
    "sim_mat = (embs@embs.T)/int(num_feat/8)\n",
    "sim_mat"
   ]
  },
  {
   "cell_type": "code",
   "execution_count": null,
   "metadata": {},
   "outputs": [],
   "source": [
    "# norms = np.linalg.norm(embs, axis=1)\n",
    "# sim_mat = embs @ embs.T / (norms[:, np.newaxis] @ norms[np.newaxis, :])\n",
    "# sim_mat"
   ]
  },
  {
   "cell_type": "code",
   "execution_count": null,
   "metadata": {},
   "outputs": [],
   "source": [
    "import matplotlib.pyplot as plt\n",
    "import seaborn as sns\n",
    "from utils import edge_index_to_adjacency"
   ]
  },
  {
   "cell_type": "code",
   "execution_count": null,
   "metadata": {},
   "outputs": [],
   "source": [
    "adj_graph = edge_index_to_adjacency(graph.edge_index)"
   ]
  },
  {
   "cell_type": "code",
   "execution_count": null,
   "metadata": {},
   "outputs": [],
   "source": [
    "plt.figure(figsize=(12, 10))\n",
    "plt.subplot(121)\n",
    "sns.heatmap(np.triu(adj_graph, k=0), cmap=\"YlOrRd\", square=True, cbar_kws=dict(use_gridspec=False,location=\"right\",pad=0.01,shrink=0.5))\n",
    "plt.title('Adjacency matrix of graph')\n",
    "plt.xlabel(\"ARU Index\")\n",
    "plt.ylabel(\"ARU Index\")\n",
    "plt.subplot(122)\n",
    "sns.heatmap(np.triu(sim_mat, k=0), cmap=\"YlOrRd\", square=True, cbar_kws=dict(use_gridspec=False,location=\"right\",pad=0.01,shrink=0.5))\n",
    "plt.title('Simmilarity Matrix')\n",
    "plt.xlabel(\"ARU Index\")\n",
    "plt.ylabel(\"ARU Index\")\n",
    "\n",
    "plt.show()"
   ]
  },
  {
   "cell_type": "markdown",
   "metadata": {},
   "source": [
    "## Post-process graph"
   ]
  },
  {
   "cell_type": "code",
   "execution_count": null,
   "metadata": {},
   "outputs": [],
   "source": [
    "graphs_ = edge_creation_nodeinfo(embeddings.unsqueeze(0),'knn', k_neigh=91)\n",
    "for i in graphs_:\n",
    "    print(f\"Is the graph {i} connected? {is_connected(i)}\")\n",
    "    print(f'Is the graph undirected {is_undirected(i.edge_index)}')"
   ]
  },
  {
   "cell_type": "code",
   "execution_count": null,
   "metadata": {},
   "outputs": [],
   "source": [
    "adj_init = edge_index_to_adjacency(graph.edge_index)\n",
    "adj_final = edge_index_to_adjacency(graphs_[0].edge_index)"
   ]
  },
  {
   "cell_type": "code",
   "execution_count": null,
   "metadata": {},
   "outputs": [],
   "source": [
    "plt.figure(figsize=(12, 10))\n",
    "plt.subplot(121)\n",
    "sns.heatmap(adj_init, cmap=\"YlOrRd\", square=True, cbar_kws=dict(use_gridspec=False,location=\"right\",pad=0.01,shrink=0.5))\n",
    "plt.title('Original Adjacency matrix of graph')\n",
    "plt.xlabel(\"ARU Index\")\n",
    "plt.ylabel(\"ARU Index\")\n",
    "plt.subplot(122)\n",
    "# sns.heatmap(adj_final*sim_mat, cmap=\"YlOrRd\", square=True, cbar_kws=dict(use_gridspec=False,location=\"right\",pad=0.01,shrink=0.5))\n",
    "sns.heatmap(adj_final, cmap=\"YlOrRd\", square=True, cbar_kws=dict(use_gridspec=False,location=\"right\",pad=0.01,shrink=0.5))\n",
    "plt.title('Final Adjacency matrix of graph')\n",
    "plt.xlabel(\"ARU Index\")\n",
    "plt.ylabel(\"ARU Index\")\n",
    "\n",
    "plt.show()"
   ]
  },
  {
   "cell_type": "code",
   "execution_count": null,
   "metadata": {},
   "outputs": [],
   "source": [
    "import networkx as nx\n",
    "\n",
    "def pyg_to_networkx(data):\n",
    "    # Convert PyG data to NetworkX graph\n",
    "    G = nx.Graph()\n",
    "    \n",
    "    # Add nodes\n",
    "    G.add_nodes_from(range(data.num_nodes))\n",
    "    \n",
    "    # Add edges with weights if available\n",
    "    edges = data.edge_index.t().numpy()\n",
    "    \n",
    "    # Check if edge weights are available\n",
    "    if hasattr(data, 'edge_weight') and data.edge_weight is not None:\n",
    "        # Add edges with weights\n",
    "        edge_weights = {tuple(edge): weight.item() for edge, weight in zip(edges, data.edge_weight)}\n",
    "        for edge, weight in edge_weights.items():\n",
    "            G.add_edge(edge[0], edge[1], weight=weight)\n",
    "    else:\n",
    "        # Add edges without weights\n",
    "        G.add_edges_from(edges)\n",
    "    \n",
    "    # Optionally add node and edge attributes\n",
    "    if data.x is not None:\n",
    "        nx.set_node_attributes(G, {i: data.x[i].numpy() for i in range(data.num_nodes)}, 'features')\n",
    "    \n",
    "    if data.edge_attr is not None:\n",
    "        edge_attrs = {tuple(edge): data.edge_attr[i].numpy() for i, edge in enumerate(edges)}\n",
    "        nx.set_edge_attributes(G, edge_attrs, 'attributes')\n",
    "    \n",
    "    return G"
   ]
  },
  {
   "cell_type": "code",
   "execution_count": null,
   "metadata": {},
   "outputs": [],
   "source": [
    "import geopandas as gpd\n",
    "\n",
    "#función que permite plotear nodos en posición geográfica deseada\n",
    "def same_posicion_data(df):\n",
    "  gps_point = gpd.GeoDataFrame(df, geometry=gpd.points_from_xy(df.longitud_IG, df.latitude_IG)) #objeto geometrico para respetar posiciones\n",
    "  coordinates = np.column_stack((gps_point.geometry.x, gps_point.geometry.y))\n",
    "  return coordinates\n",
    "\n",
    "coordinates = same_posicion_data(df_map)"
   ]
  },
  {
   "cell_type": "code",
   "execution_count": null,
   "metadata": {},
   "outputs": [],
   "source": [
    "def adjacency_to_edge_weights(adj_matrix, edge_index):\n",
    "    \"\"\"\n",
    "    Convert adjacency matrix of weights to edge_weight tensor using edge_index.\n",
    "    \n",
    "    Args:\n",
    "        adj_matrix: Tensor of shape [num_nodes, num_nodes] containing edge weights\n",
    "        edge_index: Tensor of shape [2, num_edges] containing edge indices\n",
    "        \n",
    "    Returns:\n",
    "        edge_weight: Tensor of shape [num_edges] containing weights for each edge\n",
    "    \"\"\"\n",
    "    # Get source and target nodes for each edge\n",
    "    src, dst = edge_index[0], edge_index[1]\n",
    "    \n",
    "    # Extract weights from adjacency matrix based on edge indices\n",
    "    edge_weight = adj_matrix[src, dst]\n",
    "    \n",
    "    return edge_weight"
   ]
  },
  {
   "cell_type": "code",
   "execution_count": null,
   "metadata": {},
   "outputs": [],
   "source": [
    "edge_weight = adjacency_to_edge_weights(sim_mat, graphs_[0].edge_index)\n",
    "edge_weight.shape"
   ]
  },
  {
   "cell_type": "code",
   "execution_count": null,
   "metadata": {},
   "outputs": [],
   "source": [
    "graphs_[0].edge_weight = edge_weight"
   ]
  },
  {
   "cell_type": "code",
   "execution_count": null,
   "metadata": {},
   "outputs": [],
   "source": [
    "G = pyg_to_networkx(graphs_[0])\n",
    "nodes = list(G.nodes())\n",
    "positions = dict(zip(G.nodes, coordinates))"
   ]
  },
  {
   "cell_type": "code",
   "execution_count": null,
   "metadata": {},
   "outputs": [],
   "source": [
    "G.edges(data=True)"
   ]
  },
  {
   "cell_type": "code",
   "execution_count": null,
   "metadata": {},
   "outputs": [],
   "source": [
    "nx.density(G)\n"
   ]
  },
  {
   "cell_type": "code",
   "execution_count": null,
   "metadata": {},
   "outputs": [],
   "source": [
    "nx.diameter(G,weight=\"weight\")"
   ]
  },
  {
   "cell_type": "code",
   "execution_count": null,
   "metadata": {},
   "outputs": [],
   "source": [
    "nx.average_shortest_path_length(G,weight=\"weight\")"
   ]
  },
  {
   "cell_type": "code",
   "execution_count": null,
   "metadata": {},
   "outputs": [],
   "source": [
    "# nx.betweenness_centrality(G, weight=\"weight\")"
   ]
  },
  {
   "cell_type": "code",
   "execution_count": null,
   "metadata": {},
   "outputs": [],
   "source": [
    "edge_weights = [1 for u, v in G.edges()]\n",
    "# edge_weights = [3*sim_mat[u,v]  for u, v in G.edges()]\n",
    "\n",
    "# Dibujar los nodos del grafo con tamaño personalizado\n",
    "node_size = 300\n",
    "node_border_color = 'white'\n",
    "node_border_width = 0\n",
    "node_labels = {node: df_map.index[node] for node in G.nodes()}\n",
    "\n",
    "fig, ax = plt.subplots(figsize=(8,8))\n",
    "nx.draw_networkx_nodes(graphs_[0], positions, nodelist=G.nodes(), node_size=node_size,# node_color=node_color,\n",
    "                       linewidths=node_border_width, edgecolors=node_border_color, cmap=\"summer\")\n",
    "nx.draw_networkx_labels(G, positions, labels=node_labels, font_color='black', font_size=10)\n",
    "\n",
    "# escalar los anchos de los enlaces\n",
    "min_width = 1  # ancho mínimo de enlace\n",
    "max_width = 5  # ancho máximo de enlace\n",
    "# scaled_widths = [(w - min(edge_weights)) / (max(edge_weights) - min(edge_weights)) * (max_width - min_width) + min_width for w in edge_weights] #si valor de enlace es cercano al umbral, el color se acercará al azul, si es mucho mayor al umbral se acerca al rojo\n",
    "\n",
    "\n",
    "# Dibujar los enlaces del grafo con ancho constante y colores personalizados\n",
    "nx.draw_networkx_edges(G, positions, width=edge_weights, edge_color=\"darkblue\", alpha=0.3) # se puede ver tambien con colores cambiando edge_color=edge_colors\n",
    "# fig.savefig('./results/graph_geo.pdf', transparent=True, dpi=300,bbox_inches='tight',pad_inches=0.0)"
   ]
  },
  {
   "cell_type": "code",
   "execution_count": null,
   "metadata": {},
   "outputs": [],
   "source": [
    "H = G.copy()\n",
    "H.remove_node(35)\n",
    "centrality = nx.betweenness_centrality(H, k=10, endpoints=True)\n",
    "\n",
    "# # compute community structure\n",
    "# lpc = nx.community.label_propagation_communities(H)\n",
    "# community_index = {n: i for i, com in enumerate(lpc) for n in com}\n",
    "\n",
    "#### draw graph ####\n",
    "fig, ax = plt.subplots(figsize=(8, 8))\n",
    "pos = nx.spring_layout(H, k=0.15, seed=4572321)\n",
    "node_color = [0 for n in H]\n",
    "node_size = [v * 10000 for v in centrality.values()]\n",
    "nx.draw_networkx(\n",
    "    H,\n",
    "    pos=positions,\n",
    "    with_labels=False,\n",
    "    node_color=node_color,\n",
    "    node_size=node_size,\n",
    "    edge_color=\"mediumslateblue\", #https://graphviz.org/pdf/dotguide.pdf\n",
    "    alpha=0.6,\n",
    ")\n",
    "\n",
    "# Title/legend\n",
    "font = {\"color\": \"r\", \"fontweight\": \"bold\", \"fontsize\": 20}\n",
    "\n",
    "\n",
    "ax.text(\n",
    "    0.80,\n",
    "    0.06,\n",
    "    \"node size = betweenness centrality\",\n",
    "    horizontalalignment=\"center\",\n",
    "    transform=ax.transAxes,\n",
    "    fontdict=font,\n",
    ")\n",
    "\n",
    "# Resize figure for label readability\n",
    "ax.margins(0.1, 0.05)\n",
    "fig.tight_layout()\n",
    "plt.axis(\"off\")\n",
    "plt.show()"
   ]
  },
  {
   "cell_type": "code",
   "execution_count": null,
   "metadata": {},
   "outputs": [],
   "source": []
  },
  {
   "cell_type": "markdown",
   "metadata": {},
   "source": [
    "## Fin"
   ]
  }
 ],
 "metadata": {
  "kernelspec": {
   "display_name": "PytorchGeometric",
   "language": "python",
   "name": "python3"
  },
  "language_info": {
   "codemirror_mode": {
    "name": "ipython",
    "version": 3
   },
   "file_extension": ".py",
   "mimetype": "text/x-python",
   "name": "python",
   "nbconvert_exporter": "python",
   "pygments_lexer": "ipython3",
   "version": "3.10.12"
  }
 },
 "nbformat": 4,
 "nbformat_minor": 2
}
