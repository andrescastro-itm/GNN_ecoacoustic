{
 "cells": [
  {
   "cell_type": "code",
   "execution_count": 1,
   "metadata": {},
   "outputs": [
    {
     "data": {
      "text/plain": [
       "<torch._C.Generator at 0x7fc00fa2e8d0>"
      ]
     },
     "execution_count": 1,
     "metadata": {},
     "output_type": "execute_result"
    }
   ],
   "source": [
    "import torch\n",
    "import datetime\n",
    "\n",
    "import torch.nn as nn\n",
    "import numpy as np\n",
    "import pandas as pd\n",
    "\n",
    "\n",
    "from GraphDataset import MyDataset\n",
    "from torch_geometric.loader import DataLoader\n",
    "\n",
    "import matplotlib.pyplot as plt\n",
    "import seaborn as sns\n",
    "from utils import edge_index_to_adjacency\n",
    "\n",
    "torch.manual_seed(611)"
   ]
  },
  {
   "cell_type": "code",
   "execution_count": 2,
   "metadata": {},
   "outputs": [
    {
     "name": "stdout",
     "output_type": "stream",
     "text": [
      "                   1         2         3\n",
      "field_numb                              \n",
      "RZUA01      1.000000  0.000000  0.000000\n",
      "RZUA02      1.000000  0.000000  0.000000\n",
      "RZUA04      0.589278  0.410722  0.000000\n",
      "RZUA05      0.892664  0.000000  0.107336\n",
      "RZUA06      0.938423  0.000000  0.061577\n"
     ]
    }
   ],
   "source": [
    "# Load soft labels with membership level to each cover\n",
    "\n",
    "df_data = pd.read_csv('data/ReyZamuro_softLabels.csv',index_col=0)\n",
    "df_data = df_data.drop('RZUB02')\n",
    "df_data = df_data.drop('RZUA03b')\n",
    "print(df_data.head())"
   ]
  },
  {
   "cell_type": "code",
   "execution_count": 3,
   "metadata": {},
   "outputs": [],
   "source": [
    "#Create list of ARUs and labels\n",
    "\n",
    "DatosN = list(df_data.index)\n",
    "Clases = df_data.values.argmax(1)\n",
    "etiquetasN = Clases"
   ]
  },
  {
   "cell_type": "code",
   "execution_count": 4,
   "metadata": {},
   "outputs": [
    {
     "name": "stdout",
     "output_type": "stream",
     "text": [
      "92\n"
     ]
    }
   ],
   "source": [
    "features = 'VGGish'\n",
    "mod_encoder = 'GAT'; KN = 13\n",
    "# mod_encoder = 'GCN'; KN = 8\n",
    "\n",
    "train_dataset = MyDataset(ListaArchivos=DatosN,\n",
    "                          etiquetas=etiquetasN, caract=features)\n",
    "print(len(train_dataset))"
   ]
  },
  {
   "cell_type": "code",
   "execution_count": 5,
   "metadata": {},
   "outputs": [
    {
     "name": "stdout",
     "output_type": "stream",
     "text": [
      "RZUA01\n",
      "Data1.shape=torch.Size([3, 24, 128])\n",
      "RZUA02\n",
      "Data1.shape=torch.Size([3, 24, 128])\n",
      "RZUA04\n",
      "Data1.shape=torch.Size([3, 24, 128])\n",
      "RZUA05\n",
      "Data1.shape=torch.Size([3, 24, 128])\n",
      "RZUA06\n",
      "Data1.shape=torch.Size([3, 24, 128])\n",
      "RZUA07\n",
      "Data1.shape=torch.Size([3, 24, 128])\n",
      "RZUA08\n",
      "Data1.shape=torch.Size([3, 24, 128])\n",
      "RZUA09\n",
      "Data1.shape=torch.Size([3, 24, 128])\n",
      "RZUA10\n",
      "Data1.shape=torch.Size([3, 24, 128])\n",
      "RZUB01\n",
      "Data1.shape=torch.Size([3, 24, 128])\n",
      "RZUB03\n",
      "Data1.shape=torch.Size([3, 24, 128])\n",
      "RZUB04\n",
      "Data1.shape=torch.Size([3, 24, 128])\n",
      "RZUB05\n",
      "Data1.shape=torch.Size([3, 24, 128])\n",
      "RZUB06\n",
      "Data1.shape=torch.Size([3, 24, 128])\n",
      "RZUB07\n",
      "Data1.shape=torch.Size([3, 24, 128])\n",
      "RZUB08\n",
      "Data1.shape=torch.Size([3, 24, 128])\n",
      "RZUB09\n",
      "Data1.shape=torch.Size([3, 24, 128])\n",
      "RZUB10\n",
      "Data1.shape=torch.Size([3, 24, 128])\n",
      "RZUB11\n",
      "Data1.shape=torch.Size([3, 24, 128])\n",
      "RZUC01\n",
      "Data1.shape=torch.Size([3, 24, 128])\n",
      "RZUC02\n",
      "Data1.shape=torch.Size([3, 24, 128])\n",
      "RZUC03\n",
      "Data1.shape=torch.Size([3, 24, 128])\n",
      "RZUC05\n",
      "Data1.shape=torch.Size([3, 24, 128])\n",
      "RZUC06\n",
      "Data1.shape=torch.Size([3, 24, 128])\n",
      "RZUC07\n",
      "Data1.shape=torch.Size([3, 24, 128])\n",
      "RZUC08\n",
      "Data1.shape=torch.Size([3, 24, 128])\n",
      "RZUC09\n",
      "Data1.shape=torch.Size([3, 24, 128])\n",
      "RZUC10\n",
      "Data1.shape=torch.Size([3, 24, 128])\n",
      "RZUC11\n",
      "Data1.shape=torch.Size([3, 24, 128])\n",
      "RZUC12\n",
      "Data1.shape=torch.Size([3, 24, 128])\n",
      "RZUD01M\n",
      "Data1.shape=torch.Size([3, 24, 128])\n",
      "RZUD02\n",
      "Data1.shape=torch.Size([3, 24, 128])\n",
      "RZUD03\n",
      "Data1.shape=torch.Size([3, 24, 128])\n",
      "RZUD04\n",
      "Data1.shape=torch.Size([3, 24, 128])\n",
      "RZUD05\n",
      "Data1.shape=torch.Size([3, 24, 128])\n",
      "RZUD06\n",
      "Data1.shape=torch.Size([3, 24, 128])\n",
      "RZUD07\n",
      "Data1.shape=torch.Size([3, 24, 128])\n",
      "RZUD08\n",
      "Data1.shape=torch.Size([3, 24, 128])\n",
      "RZUD09\n",
      "Data1.shape=torch.Size([3, 24, 128])\n",
      "RZUD10\n",
      "Data1.shape=torch.Size([3, 24, 128])\n",
      "RZUD11\n",
      "Data1.shape=torch.Size([3, 24, 128])\n",
      "RZUD12\n",
      "Data1.shape=torch.Size([3, 24, 128])\n",
      "RZUD13\n",
      "Data1.shape=torch.Size([3, 24, 128])\n",
      "RZUE01\n",
      "Data1.shape=torch.Size([3, 24, 128])\n",
      "RZUE02\n",
      "Data1.shape=torch.Size([3, 24, 128])\n",
      "RZUE03\n",
      "Data1.shape=torch.Size([3, 24, 128])\n",
      "RZUE04\n",
      "Data1.shape=torch.Size([3, 24, 128])\n",
      "RZUE05\n",
      "Data1.shape=torch.Size([3, 24, 128])\n",
      "RZUE06\n",
      "Data1.shape=torch.Size([3, 24, 128])\n",
      "RZUE07\n",
      "Data1.shape=torch.Size([3, 24, 128])\n",
      "RZUE08\n",
      "Data1.shape=torch.Size([3, 24, 128])\n",
      "RZUE09\n",
      "Data1.shape=torch.Size([3, 24, 128])\n",
      "RZUE10\n",
      "Data1.shape=torch.Size([3, 24, 128])\n",
      "RZUE11\n",
      "Data1.shape=torch.Size([3, 24, 128])\n",
      "RZUE12\n",
      "Data1.shape=torch.Size([3, 24, 128])\n",
      "RZUE13\n",
      "Data1.shape=torch.Size([3, 24, 128])\n",
      "RZUF02\n",
      "Data1.shape=torch.Size([3, 24, 128])\n",
      "RZUF03\n",
      "Data1.shape=torch.Size([3, 24, 128])\n",
      "RZUF04\n",
      "Data1.shape=torch.Size([3, 24, 128])\n",
      "RZUF05\n",
      "Data1.shape=torch.Size([3, 24, 128])\n",
      "RZUF06\n",
      "Data1.shape=torch.Size([3, 24, 128])\n",
      "RZUF07\n",
      "Data1.shape=torch.Size([3, 24, 128])\n",
      "RZUF08\n",
      "Data1.shape=torch.Size([3, 24, 128])\n",
      "RZUF09\n",
      "Data1.shape=torch.Size([3, 24, 128])\n",
      "RZUF10\n",
      "Data1.shape=torch.Size([3, 24, 128])\n",
      "RZUF11\n",
      "Data1.shape=torch.Size([3, 24, 128])\n",
      "RZUF12\n",
      "Data1.shape=torch.Size([3, 24, 128])\n",
      "RZUF13\n",
      "Data1.shape=torch.Size([3, 24, 128])\n",
      "RZUG02\n",
      "Data1.shape=torch.Size([3, 24, 128])\n",
      "RZUG03\n",
      "Data1.shape=torch.Size([3, 24, 128])\n",
      "RZUG04\n",
      "Data1.shape=torch.Size([3, 24, 128])\n",
      "RZUG05\n",
      "Data1.shape=torch.Size([3, 24, 128])\n",
      "RZUG06\n",
      "Data1.shape=torch.Size([3, 24, 128])\n",
      "RZUG07\n",
      "Data1.shape=torch.Size([3, 24, 128])\n",
      "RZUG08\n",
      "Data1.shape=torch.Size([3, 24, 128])\n",
      "RZUG09\n",
      "Data1.shape=torch.Size([3, 24, 128])\n",
      "RZUG10\n",
      "Data1.shape=torch.Size([3, 24, 128])\n",
      "RZUG11\n",
      "Data1.shape=torch.Size([3, 24, 128])\n",
      "RZUG12\n",
      "Data1.shape=torch.Size([3, 24, 128])\n",
      "RZUG13\n",
      "Data1.shape=torch.Size([3, 24, 128])\n",
      "RZUH02\n",
      "Data1.shape=torch.Size([3, 24, 128])\n",
      "RZUH03\n",
      "Data1.shape=torch.Size([3, 24, 128])\n",
      "RZUH04\n",
      "Data1.shape=torch.Size([3, 24, 128])\n",
      "RZUH05\n",
      "Data1.shape=torch.Size([3, 24, 128])\n",
      "RZUH06\n",
      "Data1.shape=torch.Size([3, 24, 128])\n",
      "RZUH07\n",
      "Data1.shape=torch.Size([3, 24, 128])\n",
      "RZUH08\n",
      "Data1.shape=torch.Size([3, 24, 128])\n",
      "RZUH09\n",
      "Data1.shape=torch.Size([3, 24, 128])\n",
      "RZUH10\n",
      "Data1.shape=torch.Size([3, 24, 128])\n",
      "RZUH11\n",
      "Data1.shape=torch.Size([3, 24, 128])\n",
      "RZUH12\n",
      "Data1.shape=torch.Size([3, 24, 128])\n",
      "RZUH13\n",
      "Data1.shape=torch.Size([3, 24, 128])\n"
     ]
    }
   ],
   "source": [
    "unpacked_data = [train_dataset[i][0] for i in range(len(train_dataset))]\n",
    "x = torch.stack(unpacked_data, dim=0).transpose(0,1)"
   ]
  },
  {
   "cell_type": "code",
   "execution_count": 6,
   "metadata": {},
   "outputs": [],
   "source": [
    "def min_max_normalize_along_dim(tensor, dim):\n",
    "    # Get min and max values along the specified dimension, keeping dimensions\n",
    "    min_vals, _ = torch.min(tensor, dim=dim, keepdim=True)\n",
    "    max_vals, _ = torch.max(tensor, dim=dim, keepdim=True)\n",
    "    \n",
    "    # Handle the case where min and max are the same (to avoid division by zero)\n",
    "    diff = max_vals - min_vals\n",
    "    diff[diff == 0] = 1.0  # Replace zeros with ones to avoid division by zero\n",
    "    \n",
    "    # Normalize the tensor\n",
    "    normalized = (tensor - min_vals) / diff\n",
    "    \n",
    "    return normalized"
   ]
  },
  {
   "cell_type": "code",
   "execution_count": 7,
   "metadata": {},
   "outputs": [
    {
     "data": {
      "text/plain": [
       "torch.Size([3, 92, 24, 128])"
      ]
     },
     "execution_count": 7,
     "metadata": {},
     "output_type": "execute_result"
    }
   ],
   "source": [
    "x = min_max_normalize_along_dim(x, dim=2)\n",
    "x.shape"
   ]
  },
  {
   "cell_type": "markdown",
   "metadata": {},
   "source": [
    "## Edge Creation"
   ]
  },
  {
   "cell_type": "code",
   "execution_count": 8,
   "metadata": {},
   "outputs": [],
   "source": [
    "from utils import edge_creation_nodeinfo, is_connected, edge_creation_geoDistance, plot_distance_matrix_heatmap, edge_creation_coverinfo\n",
    "from torch_geometric.utils import is_undirected"
   ]
  },
  {
   "cell_type": "code",
   "execution_count": 9,
   "metadata": {},
   "outputs": [
    {
     "name": "stdout",
     "output_type": "stream",
     "text": [
      "Is the graph Data(x=[92, 24, 128], edge_index=[2, 606]) connected? True\n",
      "Is the graph undirected True\n",
      "Is the graph Data(x=[92, 24, 128], edge_index=[2, 606]) connected? True\n",
      "Is the graph undirected True\n",
      "Is the graph Data(x=[92, 24, 128], edge_index=[2, 606]) connected? True\n",
      "Is the graph undirected True\n"
     ]
    },
    {
     "data": {
      "text/plain": [
       "128"
      ]
     },
     "execution_count": 9,
     "metadata": {},
     "output_type": "execute_result"
    }
   ],
   "source": [
    "graphs = edge_creation_coverinfo(torch.tensor(df_data.values), x,'knn', k_neigh=5)\n",
    "for i in graphs:\n",
    "    print(f\"Is the graph {i} connected? {is_connected(i)}\")\n",
    "    print(f'Is the graph undirected {is_undirected(i.edge_index)}')\n",
    "\n",
    "max_nodes = max([data.num_nodes for data in graphs])\n",
    "num_feat = graphs[0].x.shape[-1]\n",
    "num_feat"
   ]
  },
  {
   "cell_type": "code",
   "execution_count": 10,
   "metadata": {},
   "outputs": [],
   "source": [
    "train_loader = DataLoader(graphs, batch_size=1, shuffle=False)"
   ]
  },
  {
   "cell_type": "code",
   "execution_count": 11,
   "metadata": {},
   "outputs": [],
   "source": [
    "del x, unpacked_data, train_dataset"
   ]
  },
  {
   "cell_type": "markdown",
   "metadata": {},
   "source": [
    "## Cargar modelo"
   ]
  },
  {
   "cell_type": "code",
   "execution_count": 12,
   "metadata": {},
   "outputs": [],
   "source": [
    "from modelsCAM import MatrixGATVAE_MT # MatrixGCNVAE_MT,"
   ]
  },
  {
   "cell_type": "code",
   "execution_count": 13,
   "metadata": {},
   "outputs": [],
   "source": [
    "if mod_encoder == \"GCN\":\n",
    "    model = MatrixGCNVAE_MT(in_channels=64*num_feat, hidden_channels=4*num_feat, latent_dim=int(num_feat/8), num_nodes=max_nodes, num_classes=3)\n",
    "elif mod_encoder == \"GAT\":\n",
    "    model = MatrixGATVAE_MT(in_channels=64*num_feat, hidden_channels=4*num_feat, latent_dim=int(num_feat/8), num_nodes=max_nodes, num_classes=3)\n",
    "else:\n",
    "    print(\"Error\")"
   ]
  },
  {
   "cell_type": "code",
   "execution_count": 14,
   "metadata": {},
   "outputs": [
    {
     "data": {
      "text/plain": [
       "<All keys matched successfully>"
      ]
     },
     "execution_count": 14,
     "metadata": {},
     "output_type": "execute_result"
    }
   ],
   "source": [
    "#load model\n",
    "model.load_state_dict(torch.load(f'modelsGVAE_semi/{features}_{mod_encoder}_model_weights.pth'))"
   ]
  },
  {
   "cell_type": "markdown",
   "metadata": {},
   "source": [
    "## Eval\n"
   ]
  },
  {
   "cell_type": "code",
   "execution_count": 23,
   "metadata": {},
   "outputs": [],
   "source": [
    "from pytorch_grad_cam import EigenCAM\n",
    "\n",
    "grayscale_cam = 0\n",
    "for graph in train_loader:\n",
    "\n",
    "    target_layers = [model.conv1d]#, model_full.modelB.conv1d]\n",
    "\n",
    "    cam = EigenCAM(model=model, target_layers=target_layers)\n",
    "\n",
    "    grayscale_cam += cam(input_tensor=[graph.x, graph.edge_index], targets=None)"
   ]
  },
  {
   "cell_type": "code",
   "execution_count": 24,
   "metadata": {},
   "outputs": [
    {
     "data": {
      "text/plain": [
       "(92, 24, 128)"
      ]
     },
     "execution_count": 24,
     "metadata": {},
     "output_type": "execute_result"
    }
   ],
   "source": [
    "grayscale_cam.shape"
   ]
  },
  {
   "cell_type": "code",
   "execution_count": 29,
   "metadata": {},
   "outputs": [],
   "source": [
    "import matplotlib as mpl"
   ]
  },
  {
   "cell_type": "code",
   "execution_count": 51,
   "metadata": {},
   "outputs": [
    {
     "data": {
      "image/png": "[encoded data removed]",
      "text/plain": [
       "<Figure size 640x480 with 2 Axes>"
      ]
     },
     "metadata": {},
     "output_type": "display_data"
    }
   ],
   "source": [
    "N = 24\n",
    "idx = 84\n",
    "hourData = grayscale_cam[idx]\n",
    "\n",
    "theta = np.linspace(0.0, 2 * np.pi, N, endpoint=False)\n",
    "radii = hourData[:,0]\n",
    "colors = plt.cm.viridis(radii / max(radii))\n",
    "\n",
    "fig = plt.figure()\n",
    "ax = plt.subplot(projection='polar')\n",
    "ax.set_theta_direction(-1)\n",
    "ax.set_theta_offset(np.pi/2.0)\n",
    "ax.bar(theta, radii, width=0.25, bottom=0.0, color=colors, alpha=0.8)\n",
    "\n",
    "ax.set_xticks(np.linspace(0, 2*np.pi, 12, endpoint=False))\n",
    "ax.set_xticklabels([datetime.time(i).strftime(\"%H:00\") for i in range(0,24,2)], fontdict={'size':12}, rotation=34)\n",
    "# ax.tick_params(axis='x', rotation=75)\n",
    "\n",
    "ax.set_yticks([])\n",
    "\n",
    "ax.tick_params(axis='x', which='major', labelsize=12, pad = 9., bottom=True)\n",
    "# ax.tick_params(axis='both', which='minor', labelsize=8)\n",
    "ax.grid(alpha=0.3)\n",
    "plt.tight_layout()\n",
    "# plt.colorbar()\n",
    "\n",
    "cNorm = mpl.colors.Normalize(vmin=0, vmax=1)\n",
    "#-- Creating a new axes at the right side\n",
    "ax3 = fig.add_axes([0.9, 0.1, 0.03, 0.8])\n",
    "#-- Plotting the colormap in the created axes\n",
    "cb1 = mpl.colorbar.ColorbarBase(ax3, norm=cNorm, alpha=0.8)\n",
    "fig.subplots_adjust(left=0.05,right=0.85)\n",
    "\n",
    "plt.show()"
   ]
  }
 ],
 "metadata": {
  "kernelspec": {
   "display_name": "PytorchGeometric",
   "language": "python",
   "name": "python3"
  },
  "language_info": {
   "codemirror_mode": {
    "name": "ipython",
    "version": 3
   },
   "file_extension": ".py",
   "mimetype": "text/x-python",
   "name": "python",
   "nbconvert_exporter": "python",
   "pygments_lexer": "ipython3",
   "version": "3.10.12"
  }
 },
 "nbformat": 4,
 "nbformat_minor": 2
}
